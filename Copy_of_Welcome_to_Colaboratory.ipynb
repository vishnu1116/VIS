{
  "cells": [
    {
      "cell_type": "markdown",
      "metadata": {
        "id": "view-in-github",
        "colab_type": "text"
      },
      "source": [
        "<a href=\"https://colab.research.google.com/github/vishnu1116/VIS/blob/main/Copy_of_Welcome_to_Colaboratory.ipynb\" target=\"_parent\"><img src=\"https://colab.research.google.com/assets/colab-badge.svg\" alt=\"Open In Colab\"/></a>"
      ]
    },
    {
      "cell_type": "code",
      "source": [
        "import random\n",
        "import string\n",
        "\n",
        "# Loop until the user enters a valid number\n",
        "while True:\n",
        "    length = input(\"Enter password length: \")\n",
        "    if length.isdigit():  # Check if input contains only digits\n",
        "        length = int(length)\n",
        "        break\n",
        "    else:\n",
        "        print(\"Invalid input! Please enter a number.\")\n",
        "\n",
        "# Generate password\n",
        "characters = string.ascii_letters + string.digits + string.punctuation\n",
        "password = ''.join(random.choice(characters) for _ in range(length))\n",
        "\n",
        "print(\"Generated Password:\", password)\n"
      ],
      "metadata": {
        "id": "C1cPX6goHADB",
        "outputId": "28f6327b-f5c4-4cc9-91d0-c927c4ece35b",
        "colab": {
          "base_uri": "https://localhost:8080/"
        }
      },
      "execution_count": null,
      "outputs": [
        {
          "output_type": "stream",
          "name": "stdout",
          "text": [
            "Enter password length: 15\n",
            "Generated Password: [Ip4[efde1+[\"Vg\n"
          ]
        }
      ]
    }
  ],
  "metadata": {
    "colab": {
      "toc_visible": true,
      "provenance": [],
      "include_colab_link": true
    },
    "kernelspec": {
      "display_name": "Python 3",
      "name": "python3"
    }
  },
  "nbformat": 4,
  "nbformat_minor": 0
}